{
 "cells": [
  {
   "cell_type": "code",
   "execution_count": 1,
   "metadata": {},
   "outputs": [],
   "source": [
    "## Import all libraries:\n",
    "\n",
    "# Warnings\n",
    "import warnings\n",
    "warnings.filterwarnings('ignore')\n",
    "\n",
    "# Data handling libraries\n",
    "import numpy as np\n",
    "import pandas as pd\n",
    "\n",
    "# Time for the control of the timing for proccesses\n",
    "import time\n",
    "\n",
    "# Data acquisition and saving files\n",
    "import requests\n",
    "import json\n",
    "import os\n",
    "\n",
    "# Data visualization\n",
    "import seaborn as sns\n",
    "import plotly.graph_objects as go\n",
    "import plotly.express as px\n",
    "import matplotlib.pyplot as plt"
   ]
  },
  {
   "cell_type": "code",
   "execution_count": 2,
   "metadata": {},
   "outputs": [
    {
     "data": {
      "image/png": "[encoded data removed]",
      "text/plain": [
       "<Figure size 504x504 with 1 Axes>"
      ]
     },
     "metadata": {
      "needs_background": "light"
     },
     "output_type": "display_data"
    }
   ],
   "source": [
    "# Determine geospacial delimitations for the Primavera Forest \n",
    "\n",
    "# Delimitation coordinates\n",
    "lat1, lon1 = 20.730654, -103.684725\n",
    "lat2, lon2 = 20.536931, -103.684725\n",
    "lat3, lon3 = 20.536931, -103.449552\n",
    "lat4, lon4 = 20.730654, -103.449552\n",
    "del_lat = [lat1,lat2,lat3,lat4]\n",
    "del_lon = [lon1,lon2,lon3,lon4]\n",
    "\n",
    "# Generate a grid for the data points:\n",
    "lat_numbers = 60\n",
    "lon_numbers = 60\n",
    "lat_vector = np.linspace(min(del_lat), max(del_lat), lat_numbers)\n",
    "lon_vector = np.linspace(min(del_lon), max(del_lon), lon_numbers)\n",
    "lon,lat = np.meshgrid(lon_vector,lat_vector)\n",
    "\n",
    "# Have all the coordinates in a vector and in a dataframe\n",
    "coordinates = [[lat,lon] for lat in lat_vector for lon in lon_vector]\n",
    "coordinates_df = pd.DataFrame(coordinates, columns=['latitude','longitude'])\n",
    "\n",
    "# Plot the figure\n",
    "plt.figure(figsize=(7,7))\n",
    "plt.scatter(lon,lat, s=.3)\n",
    "plt.title(f'Coordinate grid ({lon_numbers}$\\\\times${lat_numbers}) that divides the Primavera Forest')\n",
    "plt.xlabel('Longitude (degrees)')\n",
    "plt.ylabel('Latitude (degrees)')\n",
    "plt.show()"
   ]
  },
  {
   "cell_type": "code",
   "execution_count": null,
   "metadata": {
    "scrolled": true
   },
   "outputs": [
    {
     "name": "stdout",
     "output_type": "stream",
     "text": [
      "1662 1662\n"
     ]
    }
   ],
   "source": [
    "# API Consumption, do not run unless you know what you are doing\n",
    "\n",
    "#List of API keys\n",
    "keys = ['7b708365481605dc3f5873d079428b13','f6a3f1451c57f3c47462789d7fd7db67','0184dd7d5e28a74578c3d896ec8ba417', '16128d728acfa488b037d5752b4dad5c']\n",
    "\n",
    "# Desired URL for API\n",
    "url = 'https://api.darksky.net/forecast/'\n",
    "\n",
    "## Initialize variables and flags\n",
    "\n",
    "# Information will be stored here\n",
    "info = []\n",
    "\n",
    "# There will be a register of the times a key will be used\n",
    "count = 0\n",
    "\n",
    "# There will be a register of how many times the key is working\n",
    "i = 0\n",
    "\n",
    "# Key that will be used first\n",
    "key = 0\n",
    "\n",
    "# Value of the grid that will be used first\n",
    "val = 0\n",
    "\n",
    "# Number of erros in the code\n",
    "flag = 0\n",
    "\n",
    "# While loop that will go on for all the expected values 'i', but will stop if there are 10 errors in a row.\n",
    "\n",
    "while i < 3600 and flag <= 10:\n",
    "    # Get the information for each coordinates\n",
    "    for coordinate in coordinates[val:]:\n",
    "        try:\n",
    "            #Get the information from the api\n",
    "            loc_time = (f'{coordinate[0]},{coordinate[1]},1335024000')\n",
    "            information = requests.get(f'{url}{keys[key]}/{loc_time}').json()\n",
    "            \n",
    "            #Add the information to the info vector\n",
    "            info.append(information)\n",
    "            \n",
    "            # Reset the number of errors to 0\n",
    "            flag = 0\n",
    "            \n",
    "            # Increase the uses of key\n",
    "            count += 1\n",
    "            \n",
    "            # Once the count reaches 900, we will use another key, and reestart the counter\n",
    "            if count == 900:\n",
    "                count = 0\n",
    "                key += 1\n",
    "                \n",
    "            #Each time a call is done succesffully we will increase this counter\n",
    "            i+=1\n",
    "            \n",
    "        # If the previous code has an error this will happen:\n",
    "        except:\n",
    "            \n",
    "            # We will increase the number of errors by one\n",
    "            flag+=1\n",
    "            \n",
    "            # we will print which iteration is\n",
    "            print(i,coordinates.index(coordinate))\n",
    "            \n",
    "            # we will create a variable called saveprocess with all the previous information\n",
    "            saveprocess = info\n",
    "            \n",
    "            # we will find the index value of the coordinate\n",
    "            val = coordinates.index(coordinate)\n",
    "            \n",
    "            # we will create a temporary file name\n",
    "            date = '04_21_2012_16_f_temporary'\n",
    "            \n",
    "            # we will save the information on the file name\n",
    "            with open(f'./Datos_meteorologicos/{date}.json', 'w') as fout:\n",
    "                json.dump(saveprocess, fout)\n",
    "            \n",
    "            # we will wait 20 seconds \n",
    "            time.sleep(20)\n",
    "            \n",
    "            # we will get out of the \"for\" loop\n",
    "            break\n",
    "            \n",
    "            # since the code is in a \"while\" loop, it will do again the \"for\" loop but  the variable\n",
    "            # 'val' will be actualized to the point we stood in.  \n",
    "\n",
    "# If the while loop is broken because of the number of errors, we will print that the code didnt work\n",
    "if i <= 3600:\n",
    "    if flag != 0:\n",
    "        print ('Sorry code will not work for now')\n",
    "\n",
    "    # If the while loop ends succesffuly, the number of errors should be '0' and therefore we will save the data\n",
    "    else:\n",
    "        date = '04_21_2012_16_f'\n",
    "        print (f'Success: completed the data mining for {date}')\n",
    "        with open(f'./Datos_meteorologicos/{date}.json', 'w') as fout:\n",
    "            json.dump(info, fout)\n",
    "else:\n",
    "    print('Something went terribly wrong')"
   ]
  },
  {
   "cell_type": "code",
   "execution_count": null,
   "metadata": {},
   "outputs": [],
   "source": []
  }
 ],
 "metadata": {
  "kernelspec": {
   "display_name": "Python 3",
   "language": "python",
   "name": "python3"
  },
  "language_info": {
   "codemirror_mode": {
    "name": "ipython",
    "version": 3
   },
   "file_extension": ".py",
   "mimetype": "text/x-python",
   "name": "python",
   "nbconvert_exporter": "python",
   "pygments_lexer": "ipython3",
   "version": "3.7.1"
  }
 },
 "nbformat": 4,
 "nbformat_minor": 2
}
