{
 "cells": [
  {
   "cell_type": "code",
   "execution_count": 19,
   "metadata": {},
   "outputs": [
    {
     "name": "stderr",
     "output_type": "stream",
     "text": [
      "/home/dhdzmota/.local/lib/python3.7/site-packages/requests/__init__.py:91: RequestsDependencyWarning: urllib3 (1.25.3) or chardet (2.3.0) doesn't match a supported version!\n",
      "  RequestsDependencyWarning)\n"
     ]
    }
   ],
   "source": [
    "import json\n",
    "import pandas as pd\n",
    "import numpy as np\n",
    "import requests"
   ]
  },
  {
   "cell_type": "code",
   "execution_count": 20,
   "metadata": {},
   "outputs": [],
   "source": [
    "with open('./Datos_meteorologicos/04_21_2012_03_f.json', 'r+') as fout:\n",
    "    data = json.load(fout)\n",
    "    \n",
    "# Determine geospacial delimitations for the Primavera Forest \n",
    "\n",
    "# Delimitation coordinates\n",
    "lat1, lon1 = 20.730654, -103.684725\n",
    "lat2, lon2 = 20.536931, -103.684725\n",
    "lat3, lon3 = 20.536931, -103.449552\n",
    "lat4, lon4 = 20.730654, -103.449552\n",
    "del_lat = [lat1,lat2,lat3,lat4]\n",
    "del_lon = [lon1,lon2,lon3,lon4]\n",
    "\n",
    "# Generate a grid for the data points:\n",
    "lat_numbers = 60\n",
    "lon_numbers = 60\n",
    "lat_vector = np.linspace(min(del_lat), max(del_lat), lat_numbers)\n",
    "lon_vector = np.linspace(min(del_lon), max(del_lon), lon_numbers)\n",
    "lon,lat = np.meshgrid(lon_vector,lat_vector)\n",
    "\n",
    "# Have all the coordinates in a vector and in a dataframe\n",
    "coordinates = [[lat,lon] for lat in lat_vector for lon in lon_vector]\n",
    "coordinates_df = pd.DataFrame(coordinates, columns=['latitude','longitude'])"
   ]
  },
  {
   "cell_type": "code",
   "execution_count": 21,
   "metadata": {},
   "outputs": [
    {
     "data": {
      "text/plain": [
       "{'time': 1334977200,\n",
       " 'summary': 'Partly Cloudy',\n",
       " 'icon': 'partly-cloudy-night',\n",
       " 'precipIntensity': 0,\n",
       " 'precipProbability': 0,\n",
       " 'temperature': 69.81,\n",
       " 'apparentTemperature': 69.81,\n",
       " 'dewPoint': 21.21,\n",
       " 'humidity': 0.16,\n",
       " 'pressure': 1008.6,\n",
       " 'windSpeed': 0,\n",
       " 'cloudCover': 0.44,\n",
       " 'uvIndex': 0,\n",
       " 'visibility': 10}"
      ]
     },
     "execution_count": 21,
     "metadata": {},
     "output_type": "execute_result"
    }
   ],
   "source": [
    "data[0]['currently']"
   ]
  },
  {
   "cell_type": "code",
   "execution_count": 22,
   "metadata": {},
   "outputs": [
    {
     "name": "stdout",
     "output_type": "stream",
     "text": [
      "400 3427\n"
     ]
    },
    {
     "ename": "NameError",
     "evalue": "name 'time' is not defined",
     "output_type": "error",
     "traceback": [
      "\u001b[0;31m---------------------------------------------------------------------------\u001b[0m",
      "\u001b[0;31mIndexError\u001b[0m                                Traceback (most recent call last)",
      "\u001b[0;32m<ipython-input-22-e113a10aff33>\u001b[0m in \u001b[0;36m<module>\u001b[0;34m\u001b[0m\n\u001b[1;32m     36\u001b[0m             \u001b[0mloc_time\u001b[0m \u001b[0;34m=\u001b[0m \u001b[0;34m(\u001b[0m\u001b[0;34mf'{coordinate[0]},{coordinate[1]},1334977200'\u001b[0m\u001b[0;34m)\u001b[0m\u001b[0;34m\u001b[0m\u001b[0;34m\u001b[0m\u001b[0m\n\u001b[0;32m---> 37\u001b[0;31m             \u001b[0minformation\u001b[0m \u001b[0;34m=\u001b[0m \u001b[0mrequests\u001b[0m\u001b[0;34m.\u001b[0m\u001b[0mget\u001b[0m\u001b[0;34m(\u001b[0m\u001b[0;34mf'{url}{keys[key]}/{loc_time}'\u001b[0m\u001b[0;34m)\u001b[0m\u001b[0;34m.\u001b[0m\u001b[0mjson\u001b[0m\u001b[0;34m(\u001b[0m\u001b[0;34m)\u001b[0m\u001b[0;34m\u001b[0m\u001b[0;34m\u001b[0m\u001b[0m\n\u001b[0m\u001b[1;32m     38\u001b[0m \u001b[0;34m\u001b[0m\u001b[0m\n",
      "\u001b[0;31mIndexError\u001b[0m: list index out of range",
      "\nDuring handling of the above exception, another exception occurred:\n",
      "\u001b[0;31mNameError\u001b[0m                                 Traceback (most recent call last)",
      "\u001b[0;32m<ipython-input-22-e113a10aff33>\u001b[0m in \u001b[0;36m<module>\u001b[0;34m\u001b[0m\n\u001b[1;32m     77\u001b[0m \u001b[0;34m\u001b[0m\u001b[0m\n\u001b[1;32m     78\u001b[0m             \u001b[0;31m# we will wait 20 seconds\u001b[0m\u001b[0;34m\u001b[0m\u001b[0;34m\u001b[0m\u001b[0;34m\u001b[0m\u001b[0m\n\u001b[0;32m---> 79\u001b[0;31m             \u001b[0mtime\u001b[0m\u001b[0;34m.\u001b[0m\u001b[0msleep\u001b[0m\u001b[0;34m(\u001b[0m\u001b[0;36m20\u001b[0m\u001b[0;34m)\u001b[0m\u001b[0;34m\u001b[0m\u001b[0;34m\u001b[0m\u001b[0m\n\u001b[0m\u001b[1;32m     80\u001b[0m \u001b[0;34m\u001b[0m\u001b[0m\n\u001b[1;32m     81\u001b[0m             \u001b[0;31m# we will get out of the \"for\" loop\u001b[0m\u001b[0;34m\u001b[0m\u001b[0;34m\u001b[0m\u001b[0;34m\u001b[0m\u001b[0m\n",
      "\u001b[0;31mNameError\u001b[0m: name 'time' is not defined"
     ]
    }
   ],
   "source": [
    "# API Consumption, do not run unless you know what you are doing\n",
    "\n",
    "#List of API keys\n",
    "keys = ['7b708365481605dc3f5873d079428b13','f6a3f1451c57f3c47462789d7fd7db67','0184dd7d5e28a74578c3d896ec8ba417', '16128d728acfa488b037d5752b4dad5c']\n",
    "\n",
    "# Desired URL for API\n",
    "url = 'https://api.darksky.net/forecast/'\n",
    "\n",
    "## Initialize variables and flags\n",
    "\n",
    "# Information will be stored here\n",
    "info = data\n",
    "\n",
    "# There will be a register of the times a key will be used\n",
    "count = 0\n",
    "\n",
    "# There will be a register of how many times the key is working\n",
    "i = 0\n",
    "\n",
    "# Key that will be used first\n",
    "key = 0\n",
    "\n",
    "# Value of the grid that will be used first\n",
    "val = coordinates.index(coordinates[len(data)])\n",
    "\n",
    "# Number of erros in the code\n",
    "flag = 0\n",
    "\n",
    "# While loop that will go on for all the expected values 'i', but will stop if there are 10 errors in a row.\n",
    "\n",
    "while i < 3600 and flag <= 10:\n",
    "    # Get the information for each coordinates\n",
    "    for coordinate in coordinates[val:]:\n",
    "        try:\n",
    "            #Get the information from the api\n",
    "            loc_time = (f'{coordinate[0]},{coordinate[1]},1334977200')\n",
    "            information = requests.get(f'{url}{keys[key]}/{loc_time}').json()\n",
    "            \n",
    "            #Add the information to the info vector\n",
    "            info.append(information)\n",
    "            \n",
    "            # Reset the number of errors to 0\n",
    "            flag = 0\n",
    "            \n",
    "            # Increase the uses of key\n",
    "            count += 1\n",
    "            \n",
    "            # Once the count reaches 900, we will use another key, and reestart the counter\n",
    "            if count == 100:\n",
    "                count = 0\n",
    "                key += 1\n",
    "                \n",
    "            #Each time a call is done succesffully we will increase this counter\n",
    "            i+=1\n",
    "            \n",
    "        # If the previous code has an error this will happen:\n",
    "        except:\n",
    "            \n",
    "            # We will increase the number of errors by one\n",
    "            flag+=1\n",
    "            \n",
    "            # we will print which iteration is\n",
    "            print(i,coordinates.index(coordinate))\n",
    "            \n",
    "            # we will create a variable called saveprocess with all the previous information\n",
    "            saveprocess = info\n",
    "            \n",
    "            # we will find the index value of the coordinate\n",
    "            val = coordinates.index(coordinate)\n",
    "            \n",
    "            # we will create a temporary file name\n",
    "            date = '04_21_2012_03_f_temporary'\n",
    "            \n",
    "            # we will save the information on the file name\n",
    "            with open(f'./Datos_meteorologicos/{date}.json', 'w') as fout:\n",
    "                json.dump(saveprocess, fout)\n",
    "            \n",
    "            # we will wait 20 seconds \n",
    "            time.sleep(20)\n",
    "            \n",
    "            # we will get out of the \"for\" loop\n",
    "            break\n",
    "            \n",
    "            # since the code is in a \"while\" loop, it will do again the \"for\" loop but  the variable\n",
    "            # 'val' will be actualized to the point we stood in.  \n",
    "\n",
    "# If the while loop is broken because of the number of errors, we will print that the code didnt work\n",
    "if i <= 3600:\n",
    "    if flag != 0:\n",
    "        print ('Sorry code will not work for now')\n",
    "\n",
    "    # If the while loop ends succesffuly, the number of errors should be '0' and therefore we will save the data\n",
    "    else:\n",
    "        print ('Success: completed the data mining')\n",
    "        date = '04_21_2012_03_f'\n",
    "        with open(f'./Datos_meteorologicos/{date}.json', 'w') as fout:\n",
    "            json.dump(info, fout)\n",
    "else:\n",
    "    print('Something went terribly wrong')"
   ]
  },
  {
   "cell_type": "code",
   "execution_count": 23,
   "metadata": {},
   "outputs": [
    {
     "data": {
      "text/plain": [
       "3809"
      ]
     },
     "execution_count": 23,
     "metadata": {},
     "output_type": "execute_result"
    }
   ],
   "source": [
    "len(info)"
   ]
  },
  {
   "cell_type": "code",
   "execution_count": null,
   "metadata": {},
   "outputs": [],
   "source": []
  }
 ],
 "metadata": {
  "kernelspec": {
   "display_name": "Python 3",
   "language": "python",
   "name": "python3"
  },
  "language_info": {
   "codemirror_mode": {
    "name": "ipython",
    "version": 3
   },
   "file_extension": ".py",
   "mimetype": "text/x-python",
   "name": "python",
   "nbconvert_exporter": "python",
   "pygments_lexer": "ipython3",
   "version": "3.7.1"
  }
 },
 "nbformat": 4,
 "nbformat_minor": 2
}
